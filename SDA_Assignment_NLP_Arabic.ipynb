{
 "cells": [
  {
   "cell_type": "code",
   "execution_count": 1,
   "id": "6f319608",
   "metadata": {
    "collapsed": true
   },
   "outputs": [
    {
     "name": "stdout",
     "output_type": "stream",
     "text": [
      "Requirement already satisfied: stanza in /Users/afnanaz/Desktop/Downloads/A/anaconda3/lib/python3.9/site-packages (1.4.2)\n",
      "Requirement already satisfied: requests in /Users/afnanaz/Desktop/Downloads/A/anaconda3/lib/python3.9/site-packages (from stanza) (2.28.1)\n",
      "Requirement already satisfied: protobuf in /Users/afnanaz/Desktop/Downloads/A/anaconda3/lib/python3.9/site-packages (from stanza) (3.19.6)\n",
      "Requirement already satisfied: numpy in /Users/afnanaz/Desktop/Downloads/A/anaconda3/lib/python3.9/site-packages (from stanza) (1.21.5)\n",
      "Requirement already satisfied: torch>=1.3.0 in /Users/afnanaz/Desktop/Downloads/A/anaconda3/lib/python3.9/site-packages (from stanza) (1.13.0)\n",
      "Requirement already satisfied: tqdm in /Users/afnanaz/Desktop/Downloads/A/anaconda3/lib/python3.9/site-packages (from stanza) (4.64.1)\n",
      "Requirement already satisfied: six in /Users/afnanaz/Desktop/Downloads/A/anaconda3/lib/python3.9/site-packages (from stanza) (1.16.0)\n",
      "Requirement already satisfied: emoji in /Users/afnanaz/Desktop/Downloads/A/anaconda3/lib/python3.9/site-packages (from stanza) (2.2.0)\n",
      "Requirement already satisfied: typing-extensions in /Users/afnanaz/Desktop/Downloads/A/anaconda3/lib/python3.9/site-packages (from torch>=1.3.0->stanza) (4.3.0)\n",
      "Requirement already satisfied: charset-normalizer<3,>=2 in /Users/afnanaz/Desktop/Downloads/A/anaconda3/lib/python3.9/site-packages (from requests->stanza) (2.0.4)\n",
      "Requirement already satisfied: urllib3<1.27,>=1.21.1 in /Users/afnanaz/Desktop/Downloads/A/anaconda3/lib/python3.9/site-packages (from requests->stanza) (1.26.11)\n",
      "Requirement already satisfied: certifi>=2017.4.17 in /Users/afnanaz/Desktop/Downloads/A/anaconda3/lib/python3.9/site-packages (from requests->stanza) (2022.9.24)\n",
      "Requirement already satisfied: idna<4,>=2.5 in /Users/afnanaz/Desktop/Downloads/A/anaconda3/lib/python3.9/site-packages (from requests->stanza) (3.3)\n"
     ]
    }
   ],
   "source": [
    "!pip install stanza"
   ]
  },
  {
   "cell_type": "code",
   "execution_count": 2,
   "id": "70f2d72c",
   "metadata": {
    "collapsed": true
   },
   "outputs": [
    {
     "name": "stderr",
     "output_type": "stream",
     "text": [
      "[nltk_data] Downloading package stopwords to\n",
      "[nltk_data]     /Users/afnanaz/nltk_data...\n",
      "[nltk_data]   Package stopwords is already up-to-date!\n",
      "[nltk_data] Downloading package punkt to /Users/afnanaz/nltk_data...\n",
      "[nltk_data]   Package punkt is already up-to-date!\n"
     ]
    }
   ],
   "source": [
    "import pandas as pd\n",
    "from sklearn import metrics\n",
    "from sklearn.metrics import precision_score, recall_score, accuracy_score\n",
    "from nltk.corpus import stopwords\n",
    "import string\n",
    "from sklearn.feature_extraction.text import CountVectorizer\n",
    "from sklearn.pipeline import make_pipeline\n",
    "from sklearn.svm import LinearSVC\n",
    "import string\n",
    "import stanza\n",
    "import json\n",
    "import re\n",
    "import nltk\n",
    "\n",
    "\n",
    "from sklearn import metrics\n",
    "from nltk.corpus import stopwords\n",
    "from sklearn.feature_extraction.text import TfidfVectorizer\n",
    "from nltk.tokenize import word_tokenize\n",
    "nltk.download('stopwords')\n",
    "nltk.download('punkt')\n",
    "import numpy as np\n",
    "import warnings\n",
    "warnings.filterwarnings('ignore')\n",
    "\n"
   ]
  },
  {
   "cell_type": "code",
   "execution_count": 3,
   "id": "015fc38d",
   "metadata": {},
   "outputs": [],
   "source": [
    "train_positive = pd.read_csv('train_Arabic_tweets_positive_20190413.tsv', sep='\\t', header=None)\n",
    "train_negative = pd.read_csv('train_Arabic_tweets_negative_20190413.tsv', sep='\\t', header=None)\n",
    "train = pd.concat([train_positive, train_negative],ignore_index=True )\n",
    "train.set_axis(['label', 'tweet'], axis=1, inplace=True)\n",
    "\n",
    "test_positive = pd.read_csv('test_Arabic_tweets_positive_20190413.tsv', sep='\\t', header=None)\n",
    "test_negative = pd.read_csv('test_Arabic_tweets_negative_20190413.tsv', sep='\\t', header=None)\n",
    "test = pd.concat([test_positive, test_negative],ignore_index=True )\n",
    "test.set_axis(['label', 'tweet'], axis=1, inplace=True)"
   ]
  },
  {
   "cell_type": "code",
   "execution_count": 4,
   "id": "2af764dd",
   "metadata": {},
   "outputs": [
    {
     "data": {
      "text/html": [
       "<div>\n",
       "<style scoped>\n",
       "    .dataframe tbody tr th:only-of-type {\n",
       "        vertical-align: middle;\n",
       "    }\n",
       "\n",
       "    .dataframe tbody tr th {\n",
       "        vertical-align: top;\n",
       "    }\n",
       "\n",
       "    .dataframe thead th {\n",
       "        text-align: right;\n",
       "    }\n",
       "</style>\n",
       "<table border=\"1\" class=\"dataframe\">\n",
       "  <thead>\n",
       "    <tr style=\"text-align: right;\">\n",
       "      <th></th>\n",
       "      <th>label</th>\n",
       "      <th>text</th>\n",
       "    </tr>\n",
       "  </thead>\n",
       "  <tbody>\n",
       "    <tr>\n",
       "      <th>19371</th>\n",
       "      <td>pos</td>\n",
       "      <td>بمناسبة فوز الهلال .. 💙 سحب على آيفون XR📱 رتوي...</td>\n",
       "    </tr>\n",
       "    <tr>\n",
       "      <th>15587</th>\n",
       "      <td>neg</td>\n",
       "      <td>📌 عندهم استعداد بأنهم يطلعونك للبحر ويرجعونك ع...</td>\n",
       "    </tr>\n",
       "    <tr>\n",
       "      <th>37</th>\n",
       "      <td>neg</td>\n",
       "      <td>مع غيري كتيير 😱</td>\n",
       "    </tr>\n",
       "    <tr>\n",
       "      <th>20644</th>\n",
       "      <td>neg</td>\n",
       "      <td>اشتقت ممكن مسلسل ثاني 💔</td>\n",
       "    </tr>\n",
       "    <tr>\n",
       "      <th>11150</th>\n",
       "      <td>neg</td>\n",
       "      <td>الحظ بخرب السالفة بعد ويه 😒</td>\n",
       "    </tr>\n",
       "  </tbody>\n",
       "</table>\n",
       "</div>"
      ],
      "text/plain": [
       "      label                                               text\n",
       "19371   pos  بمناسبة فوز الهلال .. 💙 سحب على آيفون XR📱 رتوي...\n",
       "15587   neg  📌 عندهم استعداد بأنهم يطلعونك للبحر ويرجعونك ع...\n",
       "37      neg                                    مع غيري كتيير 😱\n",
       "20644   neg                            اشتقت ممكن مسلسل ثاني 💔\n",
       "11150   neg                        الحظ بخرب السالفة بعد ويه 😒"
      ]
     },
     "execution_count": 4,
     "metadata": {},
     "output_type": "execute_result"
    }
   ],
   "source": [
    "data = pd.concat([train_positive, train_negative, test_positive, test_negative])\n",
    "data.columns = ['label', 'text']\n",
    "data.sample(5)"
   ]
  },
  {
   "cell_type": "markdown",
   "id": "fa0b3557",
   "metadata": {},
   "source": [
    "# Preprocessing"
   ]
  },
  {
   "cell_type": "code",
   "execution_count": 5,
   "id": "b6f9f396",
   "metadata": {},
   "outputs": [
    {
     "name": "stdout",
     "output_type": "stream",
     "text": [
      "<class 'pandas.core.frame.DataFrame'>\n",
      "Int64Index: 56795 entries, 0 to 5767\n",
      "Data columns (total 2 columns):\n",
      " #   Column  Non-Null Count  Dtype \n",
      "---  ------  --------------  ----- \n",
      " 0   label   56795 non-null  object\n",
      " 1   text    56795 non-null  object\n",
      "dtypes: object(2)\n",
      "memory usage: 1.3+ MB\n"
     ]
    }
   ],
   "source": [
    "data.info()"
   ]
  },
  {
   "cell_type": "code",
   "execution_count": 6,
   "id": "0595c2af",
   "metadata": {},
   "outputs": [],
   "source": [
    "stop = set(stopwords.words('Arabic'))\n",
    "punctuation = list(string.punctuation)\n",
    "stop.update(punctuation)"
   ]
  },
  {
   "cell_type": "code",
   "execution_count": 7,
   "id": "36250680",
   "metadata": {},
   "outputs": [],
   "source": [
    "stop_words = set(stopwords.words('arabic'))\n",
    "\n",
    "def remove_stopwords(text):\n",
    "    final_text = []\n",
    "    for i in text.split():\n",
    "        if i.strip().lower() not in stop:\n",
    "            final_text.append(i.strip())\n",
    "    return \" \".join(final_text)\n",
    "\n",
    "\n",
    "def remove_diacritics(text):\n",
    "    arabic_diacritics = re.compile(\"\"\" ّ    | # Tashdid\n",
    "                             َ    | # Fatha\n",
    "                             ً    | # Tanwin Fath\n",
    "                             ُ    | # Damma\n",
    "                             ٌ    | # Tanwin Damm\n",
    "                             ِ    | # Kasra\n",
    "                             ٍ    | # Tanwin Kasr\n",
    "                             ْ    | # Sukun\n",
    "                             ـ     # Tatwil/Kashida\n",
    "                         \"\"\", re.VERBOSE)\n",
    "    text = re.sub(arabic_diacritics, '', str(text))\n",
    "    return text\n",
    "\n",
    "def remove_emoji(text):\n",
    "    regrex_pattern = re.compile(pattern = \"[\"\n",
    "        u\"\\U0001F600-\\U0001F64F\"  # emoticons\n",
    "        u\"\\U0001F300-\\U0001F5FF\"  # symbols & pictographs\n",
    "        u\"\\U0001F680-\\U0001F6FF\"  # transport & map symbols\n",
    "        u\"\\U0001F1E0-\\U0001F1FF\"  # flags (iOS)\n",
    "                           \"]+\", flags = re.UNICODE)\n",
    "    return regrex_pattern.sub(r'',text)\n",
    "\n",
    "def clean_text(text):\n",
    "    text = re.sub('((www\\.[^\\s]+)|(https?://[^\\s]+))',' ',text)\n",
    "    text = re.sub('\\\\s+', ' ', text)\n",
    "    text = re.sub('<.*?>',' ', text)\n",
    "    text = \"\".join([word for word in text if word not in string.punctuation])\n",
    "    text = remove_emoji(text)\n",
    "    text = remove_diacritics(text)\n",
    "    tokens = word_tokenize(text)\n",
    "    text= remove_stopwords(text)\n",
    "\n",
    "    text = ' '.join([word for word in tokens if word not in stop_words])\n",
    "    return text\n",
    "\n",
    "data['text'] = data['text'].apply(clean_text)"
   ]
  },
  {
   "cell_type": "code",
   "execution_count": 8,
   "id": "70ba5429",
   "metadata": {},
   "outputs": [
    {
     "name": "stdout",
     "output_type": "stream",
     "text": [
      "<class 'pandas.core.frame.DataFrame'>\n",
      "Int64Index: 35263 entries, 0 to 5766\n",
      "Data columns (total 2 columns):\n",
      " #   Column  Non-Null Count  Dtype \n",
      "---  ------  --------------  ----- \n",
      " 0   label   35263 non-null  object\n",
      " 1   text    35263 non-null  object\n",
      "dtypes: object(2)\n",
      "memory usage: 826.5+ KB\n"
     ]
    }
   ],
   "source": [
    "data.drop_duplicates(inplace=True)\n",
    "data.dropna(inplace=True)\n",
    "data.info()"
   ]
  },
  {
   "cell_type": "code",
   "execution_count": 9,
   "id": "8cee34c6",
   "metadata": {},
   "outputs": [
    {
     "data": {
      "text/html": [
       "<div>\n",
       "<style scoped>\n",
       "    .dataframe tbody tr th:only-of-type {\n",
       "        vertical-align: middle;\n",
       "    }\n",
       "\n",
       "    .dataframe tbody tr th {\n",
       "        vertical-align: top;\n",
       "    }\n",
       "\n",
       "    .dataframe thead th {\n",
       "        text-align: right;\n",
       "    }\n",
       "</style>\n",
       "<table border=\"1\" class=\"dataframe\">\n",
       "  <thead>\n",
       "    <tr style=\"text-align: right;\">\n",
       "      <th></th>\n",
       "      <th>label</th>\n",
       "      <th>text</th>\n",
       "    </tr>\n",
       "  </thead>\n",
       "  <tbody>\n",
       "    <tr>\n",
       "      <th>17407</th>\n",
       "      <td>pos</td>\n",
       "      <td>مجبر حوثي بيروتي 🤣</td>\n",
       "    </tr>\n",
       "    <tr>\n",
       "      <th>1257</th>\n",
       "      <td>neg</td>\n",
       "      <td>الشكر لسفاره السعوديه مهي غريبه عليكم لاهل الخ...</td>\n",
       "    </tr>\n",
       "    <tr>\n",
       "      <th>6203</th>\n",
       "      <td>neg</td>\n",
       "      <td>نشهد انه ماكمل جميله العفن</td>\n",
       "    </tr>\n",
       "    <tr>\n",
       "      <th>2966</th>\n",
       "      <td>neg</td>\n",
       "      <td>ميران</td>\n",
       "    </tr>\n",
       "    <tr>\n",
       "      <th>5105</th>\n",
       "      <td>neg</td>\n",
       "      <td>عمري يدو رسايل الفانز وهوا تعبان مستحيل ماياخد...</td>\n",
       "    </tr>\n",
       "  </tbody>\n",
       "</table>\n",
       "</div>"
      ],
      "text/plain": [
       "      label                                               text\n",
       "17407   pos                                 مجبر حوثي بيروتي 🤣\n",
       "1257    neg  الشكر لسفاره السعوديه مهي غريبه عليكم لاهل الخ...\n",
       "6203    neg                         نشهد انه ماكمل جميله العفن\n",
       "2966    neg                                              ميران\n",
       "5105    neg  عمري يدو رسايل الفانز وهوا تعبان مستحيل ماياخد..."
      ]
     },
     "execution_count": 9,
     "metadata": {},
     "output_type": "execute_result"
    }
   ],
   "source": [
    "data.columns = ['label', 'text']\n",
    "data.sample(5)"
   ]
  },
  {
   "cell_type": "markdown",
   "id": "a25aa63d",
   "metadata": {},
   "source": [
    "# pipeline"
   ]
  },
  {
   "cell_type": "code",
   "execution_count": 10,
   "id": "450273a8",
   "metadata": {},
   "outputs": [
    {
     "data": {
      "text/plain": [
       "Pipeline(steps=[('tfidfvectorizer',\n",
       "                 TfidfVectorizer(analyzer='char_wb', max_df=0.3, min_df=0.01,\n",
       "                                 ngram_range=(3, 5))),\n",
       "                ('linearsvc', LinearSVC())])"
      ]
     },
     "execution_count": 10,
     "metadata": {},
     "output_type": "execute_result"
    }
   ],
   "source": [
    "Tfidf_Vectorizer = TfidfVectorizer(analyzer='char_wb', ngram_range=(3, 5), min_df=.01, max_df=.3)\n",
    "svc = LinearSVC()\n",
    "pipeline = make_pipeline(Tfidf_Vectorizer, svc)\n",
    "pipeline.fit(train.tweet, train.label)"
   ]
  },
  {
   "cell_type": "code",
   "execution_count": 11,
   "id": "7bbb4cb9",
   "metadata": {
    "scrolled": true
   },
   "outputs": [
    {
     "name": "stdout",
     "output_type": "stream",
     "text": [
      "              precision    recall  f1-score   support\n",
      "\n",
      "         neg       0.85      0.82      0.84      5768\n",
      "         pos       0.83      0.86      0.84      5752\n",
      "\n",
      "    accuracy                           0.84     11520\n",
      "   macro avg       0.84      0.84      0.84     11520\n",
      "weighted avg       0.84      0.84      0.84     11520\n",
      "\n",
      "accuracy: 0.838\n"
     ]
    }
   ],
   "source": [
    "def print_report(pipe, x_test, y_test):\n",
    "    y_pred = pipe.predict(x_test)\n",
    "    report = metrics.classification_report(y_test, y_pred)\n",
    "    print(report)\n",
    "    print(\"accuracy: {:0.3f}\".format(metrics.accuracy_score(y_test, y_pred)))\n",
    "\n",
    "print_report(pipeline, test.tweet, test.label)"
   ]
  }
 ],
 "metadata": {
  "kernelspec": {
   "display_name": "Python 3 (ipykernel)",
   "language": "python",
   "name": "python3"
  },
  "language_info": {
   "codemirror_mode": {
    "name": "ipython",
    "version": 3
   },
   "file_extension": ".py",
   "mimetype": "text/x-python",
   "name": "python",
   "nbconvert_exporter": "python",
   "pygments_lexer": "ipython3",
   "version": "3.9.13"
  }
 },
 "nbformat": 4,
 "nbformat_minor": 5
}
